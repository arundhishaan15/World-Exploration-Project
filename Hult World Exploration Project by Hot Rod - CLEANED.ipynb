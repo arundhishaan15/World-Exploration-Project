{
 "cells": [
  {
   "cell_type": "code",
   "execution_count": null,
   "metadata": {
    "code_folding": [
     0
    ]
   },
   "outputs": [],
   "source": [
    "# Put up your names Hot Rods :D\n",
    "\"\"\"\n",
    "Authors: \n",
    "\n",
    "Arundhishaan  \n",
    "\n",
    "\"\"\"\n",
    "\n",
    "\"\"\"\n",
    "    DocString:\n",
    "    \n",
    "    A) Introduction: \n",
    "    \n",
    "\n",
    "\"\"\"\n",
    "\n"
   ]
  },
  {
   "cell_type": "code",
   "execution_count": 1,
   "metadata": {
    "code_folding": []
   },
   "outputs": [],
   "source": [
    "# Importing all necessary libraries\n",
    "\n",
    "import pandas as pd\n",
    "import numpy as np\n",
    "import matplotlib.pyplot as plt\n",
    "import seaborn as sns"
   ]
  },
  {
   "cell_type": "code",
   "execution_count": 2,
   "metadata": {
    "code_folding": [
     0
    ]
   },
   "outputs": [],
   "source": [
    "# Reading our Excel Data Sheets\n",
    "\n",
    "# Master Data File \n",
    "# Sheets: Raw, Raw Pivot, Assignment, Assignment Pivot\n",
    "\n",
    "file_wdiw = \"WDIW.xlsx\"\n",
    "wdiw      = pd.read_excel(file_wdiw, index_col = 'Country Code')\n",
    "\n",
    "# Meta Data File \n",
    "# Sheets: Series - Metadata, Country - Metadata, Country-Series - Metadata, Series-Time - Metadata, FootNote\n",
    "\n",
    "file_wdimeta = \"WDI_Metadata.xlsx\"     \n",
    "wdimeta      = pd.read_excel(file_wdimeta)   # Reads Sheet: Series - Metadata\n",
    "\n",
    "# Interesting Data Sheets from Meta Data : Country - Metadata, FootNote\n",
    "\n",
    "wdimeta_country  = pd.read_excel(file_wdimeta, \"Country - Metadata\")\n",
    "wdimeta_footnote = pd.read_excel(file_wdimeta, \"FootNote\")"
   ]
  },
  {
   "cell_type": "code",
   "execution_count": 3,
   "metadata": {
    "code_folding": [
     0
    ],
    "scrolled": true
   },
   "outputs": [],
   "source": [
    "# Assignment: Data of Team Hot Rod for Exploration\n",
    "region = wdiw[wdiw['Cool Name'] == 'Hot Rod']"
   ]
  },
  {
   "cell_type": "code",
   "execution_count": 6,
   "metadata": {
    "code_folding": [
     0
    ]
   },
   "outputs": [
    {
     "name": "stdout",
     "output_type": "stream",
     "text": [
      "<class 'pandas.core.frame.DataFrame'>\n",
      "Index: 11 entries, BLZ to USA\n",
      "Data columns (total 67 columns):\n",
      "Country Name                                                                                                  11 non-null object\n",
      "Counter                                                                                                       11 non-null object\n",
      "Hult Region                                                                                                   11 non-null object\n",
      "Cool Name                                                                                                     11 non-null object\n",
      "Access to electricity (% of population)                                                                       11 non-null float64\n",
      "Access to electricity, rural (% of rural population)                                                          11 non-null float64\n",
      "Access to electricity, urban (% of urban population)                                                          11 non-null float64\n",
      "Adolescent fertility rate (births per 1,000 women ages 15-19)                                                 10 non-null float64\n",
      "Age dependency ratio (% of working-age population)                                                            10 non-null float64\n",
      "Age dependency ratio, old (% of working-age population)                                                       10 non-null float64\n",
      "Age dependency ratio, young (% of working-age population)                                                     10 non-null float64\n",
      "Agriculture, forestry, and fishing, value added (% of GDP)                                                    9 non-null float64\n",
      "Armed forces personnel (% of total labor force)                                                               10 non-null float64\n",
      "Birth rate, crude (per 1,000 people)                                                                          11 non-null float64\n",
      "Births attended by skilled health staff (% of total)                                                          0 non-null float64\n",
      "Death rate, crude (per 1,000 people)                                                                          11 non-null float64\n",
      "Educational attainment, Doctoral or equivalent, population 25+, total (%) (cumulative)                        0 non-null float64\n",
      "Educational attainment, at least Bachelor's or equivalent, population 25+, total (%) (cumulative)             1 non-null float64\n",
      "Educational attainment, at least Master's or equivalent, population 25+, total (%) (cumulative)               0 non-null float64\n",
      "Educational attainment, at least completed lower secondary, population 25+, total (%) (cumulative)            1 non-null float64\n",
      "Educational attainment, at least completed post-secondary, population 25+, total (%) (cumulative)             1 non-null float64\n",
      "Educational attainment, at least completed primary, population 25+ years, total (%) (cumulative)              1 non-null float64\n",
      "Educational attainment, at least completed short-cycle tertiary, population 25+, total (%) (cumulative)       1 non-null float64\n",
      "Educational attainment, at least completed upper secondary, population 25+, total (%) (cumulative)            1 non-null float64\n",
      "Employment in agriculture (% of total employment) (modeled ILO estimate)                                      10 non-null float64\n",
      "Employment in industry (% of total employment) (modeled ILO estimate)                                         10 non-null float64\n",
      "Employment in services (% of total employment) (modeled ILO estimate)                                         10 non-null float64\n",
      "Fertility rate, total (births per woman)                                                                      11 non-null float64\n",
      "GDP (current US$)                                                                                             10 non-null float64\n",
      "GDP growth (annual %)                                                                                         10 non-null float64\n",
      "GINI index (World Bank estimate)                                                                              4 non-null float64\n",
      "Government expenditure on education, total (% of government expenditure)                                      4 non-null float64\n",
      "Income share held by fourth 20%                                                                               4 non-null float64\n",
      "Income share held by highest 20%                                                                              4 non-null float64\n",
      "Income share held by lowest 20%                                                                               4 non-null float64\n",
      "Income share held by second 20%                                                                               4 non-null float64\n",
      "Income share held by third 20%                                                                                4 non-null float64\n",
      "Industry (including construction), value added (% of GDP)                                                     9 non-null float64\n",
      "Life expectancy at birth, total (years)                                                                       11 non-null float64\n",
      "Literacy rate, adult total (% of people ages 15 and above)                                                    1 non-null float64\n",
      "Literacy rate, youth total (% of people ages 15-24)                                                           1 non-null float64\n",
      "Merchandise trade (% of GDP)                                                                                  10 non-null float64\n",
      "Military expenditure (% of GDP)                                                                               8 non-null float64\n",
      "Mobile cellular subscriptions (per 100 people)                                                                11 non-null float64\n",
      "Number of people pushed below the $3.10 ($ 2011 PPP) poverty line by out-of-pocket health care expenditure    11 non-null float64\n",
      "Population ages 0-14 (% of total population)                                                                  10 non-null float64\n",
      "Population ages 15-64 (% of total population)                                                                 10 non-null float64\n",
      "Population ages 65 and above (% of total population)                                                          10 non-null float64\n",
      "Population density (people per sq. km of land area)                                                           11 non-null float64\n",
      "Population growth (annual %)                                                                                  11 non-null float64\n",
      "Population in the largest city (% of urban population)                                                        9 non-null float64\n",
      "Population living in slums (% of urban population)                                                            11 non-null float64\n",
      "Population, female                                                                                            10 non-null float64\n",
      "Population, male                                                                                              10 non-null float64\n",
      "Population, total                                                                                             11 non-null float64\n",
      "Poverty headcount ratio at $1.90 a day (2011 PPP) (% of population)                                           4 non-null float64\n",
      "Poverty headcount ratio at $3.20 a day (2011 PPP) (% of population)                                           4 non-null float64\n",
      "Poverty headcount ratio at national poverty lines (% of population)                                           3 non-null float64\n",
      "Prevalence of HIV, total (% of population ages 15-49)                                                         8 non-null float64\n",
      "Prevalence of undernourishment (% of population)                                                              10 non-null float64\n",
      "Prevalence of underweight, weight for age (% of children under 5)                                             0 non-null float64\n",
      "Rural population (% of total population)                                                                      10 non-null float64\n",
      "Services, value added (% of GDP)                                                                              9 non-null float64\n",
      "Surface area (sq. km)                                                                                         11 non-null float64\n",
      "Tax revenue (% of GDP)                                                                                        7 non-null float64\n",
      "Urban population (% of total population)                                                                      11 non-null float64\n",
      "Urban population growth (annual %)                                                                            11 non-null float64\n",
      "dtypes: float64(63), object(4)\n",
      "memory usage: 5.8+ KB\n"
     ]
    }
   ],
   "source": [
    "# Look at all Data Types and non-null values of our Data Set\n",
    "\n",
    "# Read Assignment\n",
    "hot_rod = pd.DataFrame(region)\n",
    "hot_rod.info()"
   ]
  },
  {
   "cell_type": "code",
   "execution_count": 7,
   "metadata": {
    "code_folding": [
     0
    ]
   },
   "outputs": [
    {
     "data": {
      "text/html": [
       "<div>\n",
       "<style scoped>\n",
       "    .dataframe tbody tr th:only-of-type {\n",
       "        vertical-align: middle;\n",
       "    }\n",
       "\n",
       "    .dataframe tbody tr th {\n",
       "        vertical-align: top;\n",
       "    }\n",
       "\n",
       "    .dataframe thead th {\n",
       "        text-align: right;\n",
       "    }\n",
       "</style>\n",
       "<table border=\"1\" class=\"dataframe\">\n",
       "  <thead>\n",
       "    <tr style=\"text-align: right;\">\n",
       "      <th></th>\n",
       "      <th>Country Name</th>\n",
       "      <th>Counter</th>\n",
       "      <th>Hult Region</th>\n",
       "      <th>Cool Name</th>\n",
       "      <th>Access to electricity (% of population)</th>\n",
       "      <th>Access to electricity, rural (% of rural population)</th>\n",
       "      <th>Access to electricity, urban (% of urban population)</th>\n",
       "      <th>Adolescent fertility rate (births per 1,000 women ages 15-19)</th>\n",
       "      <th>Age dependency ratio (% of working-age population)</th>\n",
       "      <th>Age dependency ratio, old (% of working-age population)</th>\n",
       "      <th>...</th>\n",
       "      <th>Poverty headcount ratio at national poverty lines (% of population)</th>\n",
       "      <th>Prevalence of HIV, total (% of population ages 15-49)</th>\n",
       "      <th>Prevalence of undernourishment (% of population)</th>\n",
       "      <th>Prevalence of underweight, weight for age (% of children under 5)</th>\n",
       "      <th>Rural population (% of total population)</th>\n",
       "      <th>Services, value added (% of GDP)</th>\n",
       "      <th>Surface area (sq. km)</th>\n",
       "      <th>Tax revenue (% of GDP)</th>\n",
       "      <th>Urban population (% of total population)</th>\n",
       "      <th>Urban population growth (annual %)</th>\n",
       "    </tr>\n",
       "    <tr>\n",
       "      <th>Country Code</th>\n",
       "      <th></th>\n",
       "      <th></th>\n",
       "      <th></th>\n",
       "      <th></th>\n",
       "      <th></th>\n",
       "      <th></th>\n",
       "      <th></th>\n",
       "      <th></th>\n",
       "      <th></th>\n",
       "      <th></th>\n",
       "      <th></th>\n",
       "      <th></th>\n",
       "      <th></th>\n",
       "      <th></th>\n",
       "      <th></th>\n",
       "      <th></th>\n",
       "      <th></th>\n",
       "      <th></th>\n",
       "      <th></th>\n",
       "      <th></th>\n",
       "      <th></th>\n",
       "    </tr>\n",
       "  </thead>\n",
       "  <tbody>\n",
       "    <tr>\n",
       "      <td>BLZ</td>\n",
       "      <td>Belize</td>\n",
       "      <td>3</td>\n",
       "      <td>North America &amp; Part of Latin America</td>\n",
       "      <td>Hot Rod</td>\n",
       "      <td>98.265121</td>\n",
       "      <td>98.341982</td>\n",
       "      <td>98.173431</td>\n",
       "      <td>68.487</td>\n",
       "      <td>55.085473</td>\n",
       "      <td>7.158540</td>\n",
       "      <td>...</td>\n",
       "      <td>NaN</td>\n",
       "      <td>1.9</td>\n",
       "      <td>7.5</td>\n",
       "      <td>NaN</td>\n",
       "      <td>54.399</td>\n",
       "      <td>62.906209</td>\n",
       "      <td>22970.0</td>\n",
       "      <td>25.970056</td>\n",
       "      <td>45.601</td>\n",
       "      <td>2.212754</td>\n",
       "    </tr>\n",
       "    <tr>\n",
       "      <td>BMU</td>\n",
       "      <td>Bermuda</td>\n",
       "      <td>3</td>\n",
       "      <td>North America &amp; Part of Latin America</td>\n",
       "      <td>Hot Rod</td>\n",
       "      <td>100.000000</td>\n",
       "      <td>100.000000</td>\n",
       "      <td>100.000000</td>\n",
       "      <td>NaN</td>\n",
       "      <td>NaN</td>\n",
       "      <td>NaN</td>\n",
       "      <td>...</td>\n",
       "      <td>NaN</td>\n",
       "      <td>NaN</td>\n",
       "      <td>NaN</td>\n",
       "      <td>NaN</td>\n",
       "      <td>NaN</td>\n",
       "      <td>NaN</td>\n",
       "      <td>4290.0</td>\n",
       "      <td>NaN</td>\n",
       "      <td>100.000</td>\n",
       "      <td>-1.060518</td>\n",
       "    </tr>\n",
       "    <tr>\n",
       "      <td>CAN</td>\n",
       "      <td>Canada</td>\n",
       "      <td>3</td>\n",
       "      <td>North America &amp; Part of Latin America</td>\n",
       "      <td>Hot Rod</td>\n",
       "      <td>100.000000</td>\n",
       "      <td>100.000000</td>\n",
       "      <td>100.000000</td>\n",
       "      <td>8.387</td>\n",
       "      <td>48.616079</td>\n",
       "      <td>25.030652</td>\n",
       "      <td>...</td>\n",
       "      <td>NaN</td>\n",
       "      <td>NaN</td>\n",
       "      <td>2.5</td>\n",
       "      <td>NaN</td>\n",
       "      <td>18.650</td>\n",
       "      <td>NaN</td>\n",
       "      <td>9984670.0</td>\n",
       "      <td>12.521239</td>\n",
       "      <td>81.350</td>\n",
       "      <td>1.247407</td>\n",
       "    </tr>\n",
       "    <tr>\n",
       "      <td>CRI</td>\n",
       "      <td>Costa Rica</td>\n",
       "      <td>3</td>\n",
       "      <td>North America &amp; Part of Latin America</td>\n",
       "      <td>Hot Rod</td>\n",
       "      <td>99.600000</td>\n",
       "      <td>98.867164</td>\n",
       "      <td>99.800000</td>\n",
       "      <td>53.460</td>\n",
       "      <td>44.566920</td>\n",
       "      <td>13.373178</td>\n",
       "      <td>...</td>\n",
       "      <td>20.0</td>\n",
       "      <td>0.4</td>\n",
       "      <td>4.8</td>\n",
       "      <td>NaN</td>\n",
       "      <td>21.440</td>\n",
       "      <td>68.065397</td>\n",
       "      <td>51100.0</td>\n",
       "      <td>13.777171</td>\n",
       "      <td>78.560</td>\n",
       "      <td>2.083381</td>\n",
       "    </tr>\n",
       "    <tr>\n",
       "      <td>SLV</td>\n",
       "      <td>El Salvador</td>\n",
       "      <td>3</td>\n",
       "      <td>North America &amp; Part of Latin America</td>\n",
       "      <td>Hot Rod</td>\n",
       "      <td>99.490387</td>\n",
       "      <td>100.000000</td>\n",
       "      <td>98.841156</td>\n",
       "      <td>69.459</td>\n",
       "      <td>55.159853</td>\n",
       "      <td>12.575262</td>\n",
       "      <td>...</td>\n",
       "      <td>29.2</td>\n",
       "      <td>0.6</td>\n",
       "      <td>9.0</td>\n",
       "      <td>NaN</td>\n",
       "      <td>28.725</td>\n",
       "      <td>60.665349</td>\n",
       "      <td>21040.0</td>\n",
       "      <td>17.790230</td>\n",
       "      <td>71.275</td>\n",
       "      <td>1.593742</td>\n",
       "    </tr>\n",
       "  </tbody>\n",
       "</table>\n",
       "<p>5 rows × 67 columns</p>\n",
       "</div>"
      ],
      "text/plain": [
       "             Country Name Counter                            Hult Region  \\\n",
       "Country Code                                                               \n",
       "BLZ                Belize       3  North America & Part of Latin America   \n",
       "BMU               Bermuda       3  North America & Part of Latin America   \n",
       "CAN                Canada       3  North America & Part of Latin America   \n",
       "CRI            Costa Rica       3  North America & Part of Latin America   \n",
       "SLV           El Salvador       3  North America & Part of Latin America   \n",
       "\n",
       "             Cool Name  Access to electricity (% of population)  \\\n",
       "Country Code                                                      \n",
       "BLZ            Hot Rod                                98.265121   \n",
       "BMU            Hot Rod                               100.000000   \n",
       "CAN            Hot Rod                               100.000000   \n",
       "CRI            Hot Rod                                99.600000   \n",
       "SLV            Hot Rod                                99.490387   \n",
       "\n",
       "              Access to electricity, rural (% of rural population)  \\\n",
       "Country Code                                                         \n",
       "BLZ                                                   98.341982      \n",
       "BMU                                                  100.000000      \n",
       "CAN                                                  100.000000      \n",
       "CRI                                                   98.867164      \n",
       "SLV                                                  100.000000      \n",
       "\n",
       "              Access to electricity, urban (% of urban population)  \\\n",
       "Country Code                                                         \n",
       "BLZ                                                   98.173431      \n",
       "BMU                                                  100.000000      \n",
       "CAN                                                  100.000000      \n",
       "CRI                                                   99.800000      \n",
       "SLV                                                   98.841156      \n",
       "\n",
       "              Adolescent fertility rate (births per 1,000 women ages 15-19)  \\\n",
       "Country Code                                                                  \n",
       "BLZ                                                      68.487               \n",
       "BMU                                                         NaN               \n",
       "CAN                                                       8.387               \n",
       "CRI                                                      53.460               \n",
       "SLV                                                      69.459               \n",
       "\n",
       "              Age dependency ratio (% of working-age population)  \\\n",
       "Country Code                                                       \n",
       "BLZ                                                   55.085473    \n",
       "BMU                                                         NaN    \n",
       "CAN                                                   48.616079    \n",
       "CRI                                                   44.566920    \n",
       "SLV                                                   55.159853    \n",
       "\n",
       "              Age dependency ratio, old (% of working-age population)  ...  \\\n",
       "Country Code                                                           ...   \n",
       "BLZ                                                    7.158540        ...   \n",
       "BMU                                                         NaN        ...   \n",
       "CAN                                                   25.030652        ...   \n",
       "CRI                                                   13.373178        ...   \n",
       "SLV                                                   12.575262        ...   \n",
       "\n",
       "              Poverty headcount ratio at national poverty lines (% of population)  \\\n",
       "Country Code                                                                        \n",
       "BLZ                                                         NaN                     \n",
       "BMU                                                         NaN                     \n",
       "CAN                                                         NaN                     \n",
       "CRI                                                        20.0                     \n",
       "SLV                                                        29.2                     \n",
       "\n",
       "              Prevalence of HIV, total (% of population ages 15-49)  \\\n",
       "Country Code                                                          \n",
       "BLZ                                                         1.9       \n",
       "BMU                                                         NaN       \n",
       "CAN                                                         NaN       \n",
       "CRI                                                         0.4       \n",
       "SLV                                                         0.6       \n",
       "\n",
       "              Prevalence of undernourishment (% of population)  \\\n",
       "Country Code                                                     \n",
       "BLZ                                                        7.5   \n",
       "BMU                                                        NaN   \n",
       "CAN                                                        2.5   \n",
       "CRI                                                        4.8   \n",
       "SLV                                                        9.0   \n",
       "\n",
       "              Prevalence of underweight, weight for age (% of children under 5)  \\\n",
       "Country Code                                                                      \n",
       "BLZ                                                         NaN                   \n",
       "BMU                                                         NaN                   \n",
       "CAN                                                         NaN                   \n",
       "CRI                                                         NaN                   \n",
       "SLV                                                         NaN                   \n",
       "\n",
       "              Rural population (% of total population)  \\\n",
       "Country Code                                             \n",
       "BLZ                                             54.399   \n",
       "BMU                                                NaN   \n",
       "CAN                                             18.650   \n",
       "CRI                                             21.440   \n",
       "SLV                                             28.725   \n",
       "\n",
       "              Services, value added (% of GDP)  Surface area (sq. km)  \\\n",
       "Country Code                                                            \n",
       "BLZ                                  62.906209                22970.0   \n",
       "BMU                                        NaN                 4290.0   \n",
       "CAN                                        NaN              9984670.0   \n",
       "CRI                                  68.065397                51100.0   \n",
       "SLV                                  60.665349                21040.0   \n",
       "\n",
       "              Tax revenue (% of GDP)  \\\n",
       "Country Code                           \n",
       "BLZ                        25.970056   \n",
       "BMU                              NaN   \n",
       "CAN                        12.521239   \n",
       "CRI                        13.777171   \n",
       "SLV                        17.790230   \n",
       "\n",
       "              Urban population (% of total population)  \\\n",
       "Country Code                                             \n",
       "BLZ                                             45.601   \n",
       "BMU                                            100.000   \n",
       "CAN                                             81.350   \n",
       "CRI                                             78.560   \n",
       "SLV                                             71.275   \n",
       "\n",
       "              Urban population growth (annual %)  \n",
       "Country Code                                      \n",
       "BLZ                                     2.212754  \n",
       "BMU                                    -1.060518  \n",
       "CAN                                     1.247407  \n",
       "CRI                                     2.083381  \n",
       "SLV                                     1.593742  \n",
       "\n",
       "[5 rows x 67 columns]"
      ]
     },
     "execution_count": 7,
     "metadata": {},
     "output_type": "execute_result"
    }
   ],
   "source": [
    "# Look at first 5 rows and see index\n",
    "hot_rod.head()"
   ]
  },
  {
   "cell_type": "code",
   "execution_count": 8,
   "metadata": {
    "code_folding": [
     0
    ]
   },
   "outputs": [],
   "source": [
    "#Individual missing values. Add sources later\n",
    "\n",
    "missing_val_1 = 49.3\n",
    "hot_rod['Age dependency ratio (% of working-age population)'] = hot_rod['Age dependency ratio (% of working-age population)'].fillna(missing_val_1)\n",
    "\n",
    "missing_val_2 = 22.5\n",
    "hot_rod['Age dependency ratio, old (% of working-age population)'] = hot_rod['Age dependency ratio, old (% of working-age population)'].fillna(missing_val_2)\n",
    "\n",
    "missing_val_3 = 26.8\n",
    "hot_rod['Age dependency ratio, young (% of working-age population)'] = hot_rod['Age dependency ratio, old (% of working-age population)'].fillna(missing_val_3)\n",
    "\n",
    "missing_val_4 = 10.3\n",
    "hot_rod['Employment in industry (% of total employment) (modeled ILO estimate)'] = hot_rod['Employment in industry (% of total employment) (modeled ILO estimate)'].fillna(missing_val_4)\n",
    "\n",
    "missing_val_5 = 87.65\n",
    "hot_rod['Employment in services (% of total employment) (modeled ILO estimate)'] = hot_rod['Employment in services (% of total employment) (modeled ILO estimate)'].fillna(missing_val_5)\n",
    "\n",
    "missing_val_6 = 4700000000\n",
    "hot_rod['GDP (current US$)'] = hot_rod['GDP (current US$)'].fillna(missing_val_6)\n",
    "\n",
    "missing_val_7 = 2.5\n",
    "hot_rod['GDP growth (annual %)'] = hot_rod['GDP growth (annual %)'].fillna(missing_val_7)\n",
    "\n",
    "missing_val_8 = 17.04\n",
    "hot_rod['Population ages 0-14 (% of total population)'] = hot_rod['Population ages 0-14 (% of total population)'].fillna(missing_val_8)\n",
    "\n",
    "missing_val_9 = 64.98\n",
    "hot_rod['Population ages 15-64 (% of total population)'] = hot_rod['Population ages 15-64 (% of total population)'].fillna(missing_val_9)\n",
    "\n",
    "missing_val_10 = 17.98\n",
    "hot_rod['Population ages 65 and above (% of total population)'] = hot_rod['Population ages 15-64 (% of total population)'].fillna(missing_val_10)\n",
    "\n",
    "missing_val_11 = 3.09\n",
    "hot_rod['Population in the largest city (% of urban population)'] = hot_rod['Population in the largest city (% of urban population)'].fillna(missing_val_11)\n",
    "\n",
    "missing_val_12 = 36591\n",
    "hot_rod['Population, female'] = hot_rod['Population, female'].fillna(missing_val_12)\n",
    "\n",
    "missing_val_13 = 34273\n",
    "hot_rod['Population, male'] = hot_rod['Population, male'].fillna(missing_val_13)\n",
    "\n",
    "missing_val_14 = 0\n",
    "hot_rod['Rural population (% of total population)'] = hot_rod['Rural population (% of total population)'].fillna(missing_val_14)"
   ]
  },
  {
   "cell_type": "code",
   "execution_count": 9,
   "metadata": {
    "code_folding": [
     0
    ]
   },
   "outputs": [],
   "source": [
    "#filling in missing values for Canada\n",
    "hot_rod.loc[['CAN'],['Agriculture, forestry, and fishing, value added (% of GDP)']] = 1.68\n",
    "hot_rod.loc[['CAN'],['Industry (including construction), value added (% of GDP)']] = 8.51\n",
    "hot_rod.loc[['CAN'],['Services, value added (% of GDP)']] = 29.41"
   ]
  },
  {
   "cell_type": "code",
   "execution_count": 10,
   "metadata": {
    "code_folding": [
     0
    ]
   },
   "outputs": [],
   "source": [
    "#filling in missing values Birth Attended\n",
    "countries = ['BLZ', 'BMU', 'CAN', 'SLV','GTM','HND','MEX','NIC','PAN','USA']\n",
    "birth_numbers = [99,89,98,99,100,63,83,98,88,95,99]\n",
    "for (country_code, birth) in zip(countries, birth_numbers):\n",
    "    hot_rod.loc[[country_code],['Births attended by skilled health staff (% of total)']] = birth"
   ]
  },
  {
   "cell_type": "code",
   "execution_count": 11,
   "metadata": {
    "code_folding": [
     0
    ]
   },
   "outputs": [],
   "source": [
    "#filling in missing values Tax Revenue\n",
    "tax_countries = ['BMU','GTM', 'HND','MEX', 'PAN','USA']\n",
    "tax_numbers = [18.7,11.9,15.6,13.04,10.6,11.95]\n",
    "for (item, tax) in zip(tax_countries, tax_numbers): \n",
    "    hot_rod.loc[[item],['Tax revenue (% of GDP)']] = tax"
   ]
  },
  {
   "cell_type": "code",
   "execution_count": 12,
   "metadata": {
    "code_folding": [
     0
    ]
   },
   "outputs": [],
   "source": [
    "#fill missing values for doctoral education\n",
    "doctor_countries = ['BMU', 'MEX', 'USA']\n",
    "doctor_nums = [1.28,0.08,1.85]\n",
    "for (x,y) in zip(doctor_countries, doctor_nums):\n",
    "    hot_rod.loc[[x],['Educational attainment, Doctoral or equivalent, population 25+, total (%) (cumulative)']] = y"
   ]
  },
  {
   "cell_type": "code",
   "execution_count": 13,
   "metadata": {
    "code_folding": [
     0
    ]
   },
   "outputs": [],
   "source": [
    "#fill missing values for bachelor education\n",
    "bach_countries = ['BMU','CRI','SLV','HND', 'MEX', 'USA']\n",
    "bach_nums = [31.11,20.63,7.12,10.5,14.71,33.44]\n",
    "for (x,y) in zip(bach_countries,bach_nums):\n",
    "    hot_rod.loc[[x],[\"Educational attainment, at least Bachelor's or equivalent, population 25+, total (%) (cumulative)\"]] = y"
   ]
  },
  {
   "cell_type": "code",
   "execution_count": 14,
   "metadata": {
    "code_folding": [
     0
    ]
   },
   "outputs": [],
   "source": [
    "#fill missing values for Masters education\n",
    "masters_countries = ['BMU','CRI', 'MEX', 'USA']\n",
    "masters_nums = [9.99,2.65,21.86, 12.61]\n",
    "for (x,y) in zip(masters_countries , masters_nums):\n",
    "    hot_rod.loc[[x],[\"Educational attainment, at least Master's or equivalent, population 25+, total (%) (cumulative)\"]] = y"
   ]
  },
  {
   "cell_type": "code",
   "execution_count": 15,
   "metadata": {
    "code_folding": [
     0
    ]
   },
   "outputs": [],
   "source": [
    "#fill missing values for lower secondary education\n",
    "lowsec_countries = ['CRI','SLV','HND', 'MEX', 'USA']\n",
    "lowsec_nums = [53.11,43.25,33.70,59.71,95.59]\n",
    "for (x,y) in zip(lowsec_countries, lowsec_nums):\n",
    "    hot_rod.loc[[x],[\"Educational attainment, at least completed lower secondary, population 25+, total (%) (cumulative)\"]] = y"
   ]
  },
  {
   "cell_type": "code",
   "execution_count": 16,
   "metadata": {
    "code_folding": [
     0
    ]
   },
   "outputs": [],
   "source": [
    "#fill missing values for post secondary education\n",
    "postsec_countries = ['BMU','CRI','SLV','HND', 'MEX', 'USA']\n",
    "postsec_nums = [54.74,21.45,8.49,10.79,15.15,43.51]\n",
    "for (x,y) in zip(postsec_countries, postsec_nums):\n",
    "    hot_rod.loc[[x],[\"Educational attainment, at least completed post-secondary, population 25+, total (%) (cumulative)\"]] = y"
   ]
  },
  {
   "cell_type": "code",
   "execution_count": 17,
   "metadata": {
    "code_folding": [
     0
    ]
   },
   "outputs": [],
   "source": [
    "#fill missing values for short tertiary education\n",
    "ter_countries = ['CRI','SLV','HND', 'MEX', 'USA']\n",
    "ter_nums = [21.45,21.45,8.49,10.79,15.15,43.51]\n",
    "for (x,y) in zip(ter_countries, ter_nums):\n",
    "    hot_rod.loc[[x],[\"Educational attainment, at least completed short-cycle tertiary, population 25+, total (%) (cumulative)\"]] = y"
   ]
  },
  {
   "cell_type": "code",
   "execution_count": 18,
   "metadata": {
    "code_folding": [
     0
    ]
   },
   "outputs": [],
   "source": [
    "#fill missing values for primary  education\n",
    "pri_countries = ['CRI','SLV','HND', 'MEX', 'USA']\n",
    "pri_nums = [81.24, 58.65,61.29,80.11,98.88]\n",
    "for (x,y) in zip(pri_countries, pri_nums):\n",
    "    hot_rod.loc[[x],[\"Educational attainment, at least completed short-cycle tertiary, population 25+, total (%) (cumulative)\"]] = y"
   ]
  },
  {
   "cell_type": "code",
   "execution_count": 19,
   "metadata": {
    "code_folding": [
     0
    ]
   },
   "outputs": [],
   "source": [
    "#fill missing values for upper  education\n",
    "upper_countries = ['BMU','CRI','SLV','HND', 'MEX', 'USA']\n",
    "upper_nums = [87.45,38.30,30.34,24.69,33.29, 89.09]\n",
    "for (x,y) in zip(upper_countries, upper_nums):\n",
    "    hot_rod.loc[[x],[\"Educational attainment, at least completed upper secondary, population 25+, total (%) (cumulative)\"]] = y"
   ]
  },
  {
   "cell_type": "code",
   "execution_count": 20,
   "metadata": {
    "code_folding": [
     0
    ]
   },
   "outputs": [],
   "source": [
    "#filling in missing values Education for Mexico\n",
    "hot_rod.loc[['MEX'],['Educational attainment, Doctoral or equivalent, population 25+, total (%) (cumulative)']] = 0.1\n",
    "hot_rod.loc[['MEX'],[\"Educational attainment, at least Bachelor's or equivalent, population 25+, total (%) (cumulative)\"]] =15.4\n",
    "hot_rod.loc[['MEX'],[\"Educational attainment, at least Master's or equivalent, population 25+, total (%) (cumulative)\"]] = 1.5\n",
    "hot_rod.loc[['MEX'],[\"Educational attainment, at least completed lower secondary, population 25+, total (%) (cumulative)\"]] = 61.17\n",
    "hot_rod.loc[['MEX'],[\"Educational attainment, at least completed post-secondary, population 25+, total (%) (cumulative)\"]] = 15.84\n",
    "hot_rod.loc[['MEX'],[\"Educational attainment, at least completed primary, population 25+ years, total (%) (cumulative)\"]] =  81.42\n",
    "hot_rod.loc[['MEX'],[\"Educational attainment, at least completed short-cycle tertiary, population 25+, total (%) (cumulative)\"]] = 34.11\n",
    "hot_rod.loc[['MEX'],[\"Educational attainment, at least completed upper secondary, population 25+, total (%) (cumulative)\"]] = 34.11"
   ]
  },
  {
   "cell_type": "code",
   "execution_count": 21,
   "metadata": {
    "code_folding": [
     0
    ]
   },
   "outputs": [],
   "source": [
    "#fill missing values for poverty headcount $1.90\n",
    "countries_190 = ['CRI','SLV','HND', 'PAN']\n",
    "nums_190 = [1,1.9,17.2,2.5]\n",
    "for (x,y) in zip(countries_190, nums_190):\n",
    "    hot_rod.loc[[x],[\"Poverty headcount ratio at $1.90 a day (2011 PPP) (% of population)\"]] = y"
   ]
  },
  {
   "cell_type": "code",
   "execution_count": 22,
   "metadata": {
    "code_folding": [
     0
    ]
   },
   "outputs": [],
   "source": [
    "#fill missing values for poverty headcount $3.20\n",
    "countries_320 = ['CRI','SLV','HND', 'PAN']\n",
    "nums_320 = [2.7,8.5,31.6,6.3]\n",
    "for (x,y) in zip(countries_320, nums_320):\n",
    "    hot_rod.loc[[x],[\"Poverty headcount ratio at $3.20 a day (2011 PPP) (% of population)\"]] = y"
   ]
  },
  {
   "cell_type": "code",
   "execution_count": 23,
   "metadata": {
    "code_folding": [
     0
    ]
   },
   "outputs": [],
   "source": [
    "#fill missing values for poverty national\n",
    "countries_national = ['CRI','SLV','HND']\n",
    "nums_national = [20,29.2,64.3]\n",
    "for (x,y) in zip(countries_national, nums_national):\n",
    "    hot_rod.loc[[x],[\"Poverty headcount ratio at national poverty lines (% of population)\"]] = y"
   ]
  },
  {
   "cell_type": "code",
   "execution_count": 24,
   "metadata": {
    "code_folding": [
     0
    ]
   },
   "outputs": [],
   "source": [
    "#fill missing values for HIV\n",
    "countries_HIV = ['BLZ','CRI','SLV','GTM','HND','MEX','NIC',\"PAN\"]\n",
    "nums_HIV = [1.9,0.4,0.6,0.4,0.3,0.2,0.2,0.9]\n",
    "for (x,y) in zip(countries_HIV, nums_HIV):\n",
    "    hot_rod.loc[[x],[\"Prevalence of HIV, total (% of population ages 15-49)\"]] = y"
   ]
  },
  {
   "cell_type": "code",
   "execution_count": 25,
   "metadata": {
    "code_folding": [
     0
    ]
   },
   "outputs": [],
   "source": [
    "#fill missing values for undernourishment\n",
    "countries_undernourishment = ['BLZ','CAN','CRI','SLV','GTM','HND','MEX','NIC',\"PAN\",'USA']\n",
    "nums_undernourishment = [7.5,2.5,4.8,9,15.2,12.9,3.6,17,10,2.5]\n",
    "for (x,y) in zip(countries_undernourishment, nums_undernourishment):\n",
    "    hot_rod.loc[[x],[\"Prevalence of undernourishment (% of population)\"]] = y"
   ]
  }
 ],
 "metadata": {
  "kernelspec": {
   "display_name": "Python 3",
   "language": "python",
   "name": "python3"
  },
  "language_info": {
   "codemirror_mode": {
    "name": "ipython",
    "version": 3
   },
   "file_extension": ".py",
   "mimetype": "text/x-python",
   "name": "python",
   "nbconvert_exporter": "python",
   "pygments_lexer": "ipython3",
   "version": "3.7.1"
  },
  "toc": {
   "base_numbering": 1,
   "nav_menu": {},
   "number_sections": true,
   "sideBar": true,
   "skip_h1_title": false,
   "title_cell": "Table of Contents",
   "title_sidebar": "Contents",
   "toc_cell": false,
   "toc_position": {},
   "toc_section_display": true,
   "toc_window_display": false
  },
  "varInspector": {
   "cols": {
    "lenName": 16,
    "lenType": 16,
    "lenVar": 40
   },
   "kernels_config": {
    "python": {
     "delete_cmd_postfix": "",
     "delete_cmd_prefix": "del ",
     "library": "var_list.py",
     "varRefreshCmd": "print(var_dic_list())"
    },
    "r": {
     "delete_cmd_postfix": ") ",
     "delete_cmd_prefix": "rm(",
     "library": "var_list.r",
     "varRefreshCmd": "cat(var_dic_list()) "
    }
   },
   "types_to_exclude": [
    "module",
    "function",
    "builtin_function_or_method",
    "instance",
    "_Feature"
   ],
   "window_display": false
  }
 },
 "nbformat": 4,
 "nbformat_minor": 2
}
